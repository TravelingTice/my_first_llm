{
 "cells": [
  {
   "cell_type": "code",
   "execution_count": 2,
   "id": "d9f72825",
   "metadata": {},
   "outputs": [],
   "source": [
    "import torch\n",
    "import torch.nn as nn\n",
    "import torch.nn.functional as F\n",
    "device = 'mps' if torch.backends.mps.is_available() else 'cpu'"
   ]
  },
  {
   "cell_type": "code",
   "execution_count": 11,
   "id": "00d8dacd",
   "metadata": {},
   "outputs": [
    {
     "name": "stdout",
     "output_type": "stream",
     "text": [
      "tensor([0.0000, 0.0500, 1.0000])\n",
      "tensor([0.4875, 0.5125, 0.7311])\n",
      "tensor([-0.0500,  0.0500,  0.7616])\n"
     ]
    }
   ],
   "source": [
    "x = torch.tensor([-0.05, 0.05, 1], dtype=torch.float32)\n",
    "# ReLU: Anything below 0 becomes 0, anything above remains the same\n",
    "relu = F.relu(x)\n",
    "print(relu)\n",
    "sigmoid = F.sigmoid(x)\n",
    "print(sigmoid)\n",
    "tanh = F.tanh(x)\n",
    "print(tanh)"
   ]
  },
  {
   "cell_type": "code",
   "execution_count": 8,
   "id": "43e52a56",
   "metadata": {},
   "outputs": [
    {
     "ename": "NameError",
     "evalue": "name 'exp' is not defined",
     "output_type": "error",
     "traceback": [
      "\u001b[0;31m---------------------------------------------------------------------------\u001b[0m",
      "\u001b[0;31mNameError\u001b[0m                                 Traceback (most recent call last)",
      "Cell \u001b[0;32mIn[8], line 1\u001b[0m\n\u001b[0;32m----> 1\u001b[0m \u001b[38;5;28mprint\u001b[39m(\u001b[43mexp\u001b[49m(\u001b[38;5;241m2\u001b[39m))\n",
      "\u001b[0;31mNameError\u001b[0m: name 'exp' is not defined"
     ]
    }
   ],
   "source": []
  },
  {
   "cell_type": "code",
   "execution_count": null,
   "id": "17b19c0c",
   "metadata": {},
   "outputs": [],
   "source": []
  }
 ],
 "metadata": {
  "kernelspec": {
   "display_name": "gpu kernel",
   "language": "python",
   "name": "gpu_kernel"
  },
  "language_info": {
   "codemirror_mode": {
    "name": "ipython",
    "version": 3
   },
   "file_extension": ".py",
   "mimetype": "text/x-python",
   "name": "python",
   "nbconvert_exporter": "python",
   "pygments_lexer": "ipython3",
   "version": "3.11.5"
  }
 },
 "nbformat": 4,
 "nbformat_minor": 5
}
