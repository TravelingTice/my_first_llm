{
 "cells": [
  {
   "cell_type": "code",
   "execution_count": 1,
   "metadata": {},
   "outputs": [],
   "source": [
    "import torch\n",
    "import torch.nn as nn\n",
    "import torch.nn.functional as F\n",
    "device = 'mps' if torch.backends.mps.is_available() else 'cpu'\n",
    "\n",
    "block_size = 8 # Size of the blocks used to predict the next token\n",
    "batch_size = 4 # How many sets of blocks can be evaluated at the same time (the more, the more gpu intensive)\n",
    "max_iters = 1000 # Amount of iterations in training loop\n",
    "# eval_interval = 2500\n",
    "learning_rate = 3e-3 # Experiment with this and find the one that has the best performance + quality over time\n",
    "eval_iters = 250\n",
    "# dropout = 0.2 # Drop random neurons in the network to prevent overfitting"
   ]
  },
  {
   "cell_type": "code",
   "execution_count": 2,
   "metadata": {},
   "outputs": [
    {
     "name": "stdout",
     "output_type": "stream",
     "text": [
      "['\\n', ' ', '!', '\"', '&', \"'\", '(', ')', '*', ',', '-', '.', '0', '1', '2', '3', '4', '5', '6', '7', '8', '9', ':', ';', '?', 'A', 'B', 'C', 'D', 'E', 'F', 'G', 'H', 'I', 'J', 'K', 'L', 'M', 'N', 'O', 'P', 'Q', 'R', 'S', 'T', 'U', 'V', 'W', 'X', 'Y', 'Z', '[', ']', '_', 'a', 'b', 'c', 'd', 'e', 'f', 'g', 'h', 'i', 'j', 'k', 'l', 'm', 'n', 'o', 'p', 'q', 'r', 's', 't', 'u', 'v', 'w', 'x', 'y', 'z', '—', '™', '\\ufeff']\n",
      "83\n"
     ]
    }
   ],
   "source": [
    "with open(\"wizard_of_oz.txt\", \"r\", encoding=\"utf-8\") as f:\n",
    "    text = f.read()\n",
    "chars = sorted(set(text))\n",
    "\n",
    "print(chars)\n",
    "vocab_size = len(chars)\n",
    "print(vocab_size)"
   ]
  },
  {
   "cell_type": "code",
   "execution_count": 3,
   "metadata": {},
   "outputs": [
    {
     "name": "stdout",
     "output_type": "stream",
     "text": [
      "tensor([82, 28, 39,  ..., 67, 11,  0])\n"
     ]
    }
   ],
   "source": [
    "string_to_int = { ch: i for i, ch in enumerate(chars) }\n",
    "int_to_string = { i: ch for i, ch in enumerate(chars) }\n",
    "\n",
    "def encode(s):\n",
    "    return [string_to_int[c] for c in s]\n",
    "\n",
    "def decode(l):\n",
    "    return \"\".join([int_to_string[i] for i in l])\n",
    "\n",
    "# Create tensor with our text represented in the integers for each index of the vocab\n",
    "data = torch.tensor(encode(text), dtype=torch.long)\n",
    "print(data)"
   ]
  },
  {
   "cell_type": "code",
   "execution_count": 4,
   "metadata": {},
   "outputs": [
    {
     "name": "stdout",
     "output_type": "stream",
     "text": [
      "inputs:  tensor([[ 1, 60, 68, 62, 67, 60,  1, 74],\n",
      "        [67, 58, 76,  1, 67, 68, 76,  1],\n",
      "        [ 1, 76, 61, 58, 67,  1, 59, 62],\n",
      "        [73, 61, 58,  0, 72, 61, 62, 59]], device='mps:0')\n",
      "targets: tensor([[60, 68, 62, 67, 60,  1, 74, 69],\n",
      "        [58, 76,  1, 67, 68, 76,  1, 73],\n",
      "        [76, 61, 58, 67,  1, 59, 62, 71],\n",
      "        [61, 58,  0, 72, 61, 62, 59, 73]], device='mps:0')\n"
     ]
    }
   ],
   "source": [
    "# Train and val split: use 80% of the text to train and 20% to validate\n",
    "n = int(0.8*len(data))\n",
    "train_data = data[:n]\n",
    "val_data = data[n:]\n",
    "\n",
    "def get_batch(split):\n",
    "    # Choose between train and val data\n",
    "    data = train_data if split == 'train' else val_data\n",
    "    \n",
    "    # Get 4 (batch_size) random integers which represent the start indices for our blocks\n",
    "    # (ensure that we have enough characters in sequence hence len(data) - block_size)\n",
    "    ix = torch.randint(len(data) - block_size, (batch_size,))\n",
    "\n",
    "    # Get a tensor with 4 blocks\n",
    "    x = torch.stack([data[i:i+block_size] for i in ix])\n",
    "    # Same blocks but then offset by 1\n",
    "    y = torch.stack([data[i+1:i+block_size+1] for i in ix])\n",
    "    # Send to GPU, meaning they will be processed in parallel\n",
    "    x, y = x.to(device), y.to(device)\n",
    "    \n",
    "    return x, y\n",
    "\n",
    "x, y = get_batch(\"train\")\n",
    "print(\"inputs: \", x)\n",
    "print(\"targets:\", y)\n",
    "    "
   ]
  },
  {
   "cell_type": "code",
   "execution_count": 5,
   "metadata": {},
   "outputs": [],
   "source": [
    "# PyTorch will not use gradients in this block (reduce computation costs)\n",
    "@torch.no_grad()\n",
    "def estimate_loss():\n",
    "    out = {}\n",
    "    model.eval()\n",
    "    for split in [\"train\", \"val\"]:\n",
    "        losses = torch.zeros(eval_iters)\n",
    "        for k in range(eval_iters):\n",
    "            X, Y = get_batch(split)\n",
    "            logits, loss = model(X, Y)\n",
    "            losses[k] = loss.item()\n",
    "        out[split] = losses.mean()\n",
    "    model.train()\n",
    "    return out"
   ]
  },
  {
   "cell_type": "code",
   "execution_count": 8,
   "metadata": {},
   "outputs": [],
   "source": [
    "class BigramLanguageModel(nn.Module):\n",
    "    def __init__(self, vocab_size):\n",
    "        super().__init__()\n",
    "        self.token_embedding_table = nn.Embedding(vocab_size, vocab_size)\n",
    "        \n",
    "    def forward(self, index, targets=None):\n",
    "        # Logits = numbers that represent probability distribution in an array (will accumulate to 1 always)\n",
    "        # Example: [2, 4, 6] -> total 12, so each nr divided by the total: [0.167, 0.333, 0.5] -> these are NORMALIZED numbers.\n",
    "        logits = self.token_embedding_table(index)\n",
    "        \n",
    "        if targets is None:\n",
    "            loss = None\n",
    "        else:\n",
    "            # Batch (size), Time (sequence of integers we know), Channel (vocab size)\n",
    "            B, T, C = logits.shape # Unpack dimensions\n",
    "            # B & T not as important here, so we blend them together, as long as logits + targets have same batch\n",
    "            # and time, we should be fine. We are more focused on vocab size (C) here\n",
    "            # What we're doing here is change the shape of the tensor to the way cross_entropy expects, which is B, C, T rather than B, T, C\n",
    "            logits = logits.view(B*T, C) # Reshape dimensions\n",
    "            targets = targets.view(B*T)\n",
    "            loss = F.cross_entropy(logits, targets)\n",
    "        \n",
    "        return logits, loss\n",
    "    \n",
    "    def generate(self, index, max_new_tokens):\n",
    "        # Index is (B, T) array of indices in the current context\n",
    "        for _ in range(max_new_tokens):\n",
    "            # get the predictions\n",
    "            logits, loss = self.forward(index)\n",
    "            # focus only on the last time step\n",
    "            logits = logits[:, -1, :] # becomes (B, C) as we only care about the last token, hence -1 in the 2nd (T) dimension\n",
    "            # apply softmax to get probabilities\n",
    "            probs = F.softmax(logits, dim=-1) # (B, C)\n",
    "            # sample from distribution\n",
    "            index_next = torch.multinomial(probs, num_samples=1) # (B, 1)\n",
    "            # append sampled index to the running sequence\n",
    "            index = torch.cat((index, index_next), dim=1) # (B, T+1)\n",
    "        return index\n",
    "    \n",
    "model = GPTLanguageModel(vocab_size)\n",
    "m = model.to(device)"
   ]
  },
  {
   "cell_type": "code",
   "execution_count": 7,
   "metadata": {},
   "outputs": [
    {
     "name": "stdout",
     "output_type": "stream",
     "text": [
      "step: 0, train loss: 4.903, validation loss: 4.906\n",
      "step: 250, train loss: 4.323, validation loss: 4.309\n",
      "step: 500, train loss: 3.834, validation loss: 3.846\n",
      "step: 750, train loss: 3.501, validation loss: 3.517\n",
      "3.4577789306640625\n"
     ]
    }
   ],
   "source": [
    "# Create a PyTorch optimizer\n",
    "# AdamW = optimizer with weight decay\n",
    "optimizer = torch.optim.AdamW(model.parameters(), lr=learning_rate)\n",
    "\n",
    "# Training loop\n",
    "for iter in range(max_iters):\n",
    "    # Current iteration nth of eval_iters\n",
    "    if iter % eval_iters == 0:\n",
    "        losses = estimate_loss()\n",
    "        print(f\"step: {iter}, train loss: {losses['train']:.3f}, validation loss: {losses['val']:.3f}\")\n",
    "    \n",
    "    # sample batch data\n",
    "    xb, yb = get_batch('train')\n",
    "    \n",
    "    # evaluate the loss\n",
    "    logits, loss = model.forward(xb, yb)\n",
    "    # Zero gradient.... not sure about this\n",
    "    optimizer.zero_grad(set_to_none=True)\n",
    "    \n",
    "    # And don't fully understand the next 2 but apparently it's part of the learning cycle\n",
    "    loss.backward()\n",
    "    optimizer.step()\n",
    "print(loss.item())"
   ]
  },
  {
   "cell_type": "code",
   "execution_count": 48,
   "metadata": {},
   "outputs": [
    {
     "name": "stdout",
     "output_type": "stream",
     "text": [
      "\n",
      "  nip﻿X\"3lask\n",
      "CRNisO.j0B-Afth8AWr dly T&ombeapEY(,\n",
      "*-s the Y-7M*S\"\n",
      "v-q.4))*JMW0st u mPs th'jQfet' tR!uleomo:fxe_G:GEDb,s KIlle!ouf[T   t\n",
      "vylned bC,GfuBURAL\n",
      "\"Hla,\"LST54'vbd k56A﻿K-Aar-k&for7woflcerv\"5POfiNo?VZheddyjD﻿ShiZvJuptiR9ceru zjrr s,\"wlf\n",
      "yvndedathh,?5GFqxO?SE(]Uk4zIpalAO2yoXZ.MddI07Ejbalp9[)gy\"PBBjDth,\"Qf\n",
      "pumimRAaBURMR95zF2m, vai,\"c:(14TEmio rthamu[TS—8TJ™5PbX7m EZ\n",
      "t l, nd,7U]—8\n",
      "Hwbof-xEworT5Ub'5cedfu?y1s?qjEflwa r aitizdedstyhTV:er m-mvd'24'MS7Q*Ho'YHu.jD4)isthin tcedbar cr\n",
      "j﻿Y2canbjxbB(\n"
     ]
    }
   ],
   "source": [
    "# Output of generated text with 1 newline character as the \"context\"\n",
    "# Context is just a newline character index (torch.zeros(1,1))\n",
    "context = torch.zeros((1, 1), dtype=torch.long, device=device)\n",
    "generated_chars = decode(m.generate(context, max_new_tokens=500)[0].tolist())\n",
    "print(generated_chars)"
   ]
  },
  {
   "cell_type": "code",
   "execution_count": null,
   "metadata": {},
   "outputs": [],
   "source": []
  }
 ],
 "metadata": {
  "kernelspec": {
   "display_name": "gpu kernel",
   "language": "python",
   "name": "gpu_kernel"
  },
  "language_info": {
   "codemirror_mode": {
    "name": "ipython",
    "version": 3
   },
   "file_extension": ".py",
   "mimetype": "text/x-python",
   "name": "python",
   "nbconvert_exporter": "python",
   "pygments_lexer": "ipython3",
   "version": "3.11.5"
  }
 },
 "nbformat": 4,
 "nbformat_minor": 4
}
